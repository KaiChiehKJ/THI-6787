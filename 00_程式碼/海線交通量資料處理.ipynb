{
 "cells": [
  {
   "cell_type": "code",
   "execution_count": 2,
   "id": "4f39b13d",
   "metadata": {},
   "outputs": [],
   "source": [
    "from ProcessBasic import *"
   ]
  },
  {
   "cell_type": "code",
   "execution_count": 5,
   "id": "5fb4e4d0",
   "metadata": {},
   "outputs": [],
   "source": [
    "# Step0 定義資料夾\n",
    "datafolder = os.path.abspath(os.path.join(get_projectfolderpath(), 'Technical', '06_交通量調查', '02_原始資料'))\n",
    "volumefolder = os.path.abspath(os.path.join(datafolder, '01_路段交通量'))\n",
    "speedfolder = os.path.abspath(os.path.join(datafolder, '02_路段旅行速率'))\n",
    "\n",
    "initialfolder = create_folder(os.path.join(os.getcwd(), '..', '01_資料初步彙整'))\n",
    "volume_initialfolder = create_folder(os.path.join(initialfolder, '01_路段交通量'))\n",
    "speed_initialfolder = create_folder(os.path.join(initialfolder, '02_路段旅行速率'))\n"
   ]
  },
  {
   "cell_type": "code",
   "execution_count": 18,
   "id": "963fcf53",
   "metadata": {},
   "outputs": [],
   "source": [
    "# Step1 彙整路段交通量資料\n",
    "files = findfiles(volumefolder,'xlsx')\n",
    "df = pd.read_excel(files[0], header=[0,1])\n",
    "df.rename(columns = {'Unnamed: 0_level_0':'起'}, inplace=True)\n",
    "df.rename(columns = {'Unnamed: 1_level_0':'迄'}, inplace=True)"
   ]
  },
  {
   "cell_type": "code",
   "execution_count": 23,
   "id": "b0fb0d2b",
   "metadata": {},
   "outputs": [],
   "source": [
    "# Step2 彙整路段旅行速率資料"
   ]
  }
 ],
 "metadata": {
  "kernelspec": {
   "display_name": "Python 3",
   "language": "python",
   "name": "python3"
  },
  "language_info": {
   "codemirror_mode": {
    "name": "ipython",
    "version": 3
   },
   "file_extension": ".py",
   "mimetype": "text/x-python",
   "name": "python",
   "nbconvert_exporter": "python",
   "pygments_lexer": "ipython3",
   "version": "3.11.9"
  }
 },
 "nbformat": 4,
 "nbformat_minor": 5
}
