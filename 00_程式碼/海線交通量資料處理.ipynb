{
 "cells": [
  {
   "cell_type": "code",
   "execution_count": 7,
   "id": "4f39b13d",
   "metadata": {},
   "outputs": [],
   "source": [
    "from ProcessBasic import *"
   ]
  },
  {
   "cell_type": "code",
   "execution_count": 8,
   "id": "30fbbce0",
   "metadata": {},
   "outputs": [],
   "source": [
    "def flatten_directional_traffic_df(df: pd.DataFrame) -> pd.DataFrame:\n",
    "    \"\"\"\n",
    "    將具有 MultiIndex 欄位（方向性交通量）的資料表展平為 long-form。\n",
    "    自動辨識方向欄位與時間欄位（起、迄）。\n",
    "    \n",
    "    Parameters:\n",
    "        df (pd.DataFrame): 原始的 MultiIndex 欄位資料表\n",
    "        \n",
    "    Returns:\n",
    "        pd.DataFrame: 展平後含方向欄的資料表\n",
    "    \"\"\"\n",
    "    if not isinstance(df.columns, pd.MultiIndex):\n",
    "        raise ValueError(\"輸入的欄位不是 MultiIndex 結構\")\n",
    "\n",
    "    # 所有第一層欄位\n",
    "    all_lv0 = df.columns.get_level_values(0).unique()\n",
    "\n",
    "    # 自動找出方向欄（排除 起 與 迄）\n",
    "    direction_cols = [col for col in all_lv0 if col not in ['起', '迄']]\n",
    "\n",
    "    # 自動找出「起」、「迄」欄位（不假設第二層）\n",
    "    col_起 = next(col for col in df.columns if col[0] == '起')\n",
    "    col_迄 = next(col for col in df.columns if col[0] == '迄')\n",
    "\n",
    "    df_list = []\n",
    "\n",
    "    for direction in direction_cols:\n",
    "        temp = df[direction].copy()\n",
    "        temp['方向'] = direction\n",
    "        temp['起'] = df[col_起]\n",
    "        temp['迄'] = df[col_迄]\n",
    "        df_list.append(temp)\n",
    "\n",
    "    df_flat = pd.concat(df_list, ignore_index=True)\n",
    "\n",
    "    # 欄位排序\n",
    "    ordered_cols = ['方向', '起', '迄'] + [col for col in df_flat.columns if col not in ['方向', '起', '迄']]\n",
    "    return df_flat[ordered_cols]\n"
   ]
  },
  {
   "cell_type": "code",
   "execution_count": 9,
   "id": "5fb4e4d0",
   "metadata": {},
   "outputs": [],
   "source": [
    "# Step0 定義資料夾\n",
    "datafolder = os.path.abspath(os.path.join(get_projectfolderpath(), 'Technical', '06_交通量調查', '02_原始資料'))\n",
    "volumefolder = os.path.abspath(os.path.join(datafolder, '01_路段交通量'))\n",
    "speedfolder = os.path.abspath(os.path.join(datafolder, '02_路段旅行速率'))\n",
    "\n",
    "initialfolder = create_folder(os.path.join(os.getcwd(), '..', '01_資料初步彙整'))\n",
    "volume_initialfolder = create_folder(os.path.join(initialfolder, '01_路段交通量'))\n",
    "speed_initialfolder = create_folder(os.path.join(initialfolder, '02_路段旅行速率'))\n"
   ]
  },
  {
   "cell_type": "code",
   "execution_count": 21,
   "id": "963fcf53",
   "metadata": {},
   "outputs": [],
   "source": [
    "# Step1 彙整路段交通量資料\n",
    "files = findfiles(volumefolder,'xlsx')\n",
    "\n",
    "file = files[0]"
   ]
  },
  {
   "cell_type": "code",
   "execution_count": 31,
   "id": "a22b2667",
   "metadata": {},
   "outputs": [],
   "source": [
    "surveynumber = os.path.basename(file).split(\".\")[0] #讀取檔名進行命名(因xlsx內中並沒有可以協助判斷的部分)\n",
    "surveyplace = os.path.basename(file).split(\".\")[1]\n",
    "\n",
    "sheetnamelist = ['平日','假日']\n",
    "sheetname = sheetnamelist[0]\n",
    "\n",
    "df = pd.read_excel(file, header=[0,1], sheet_name=sheetname)\n",
    "df.rename(columns = {'Unnamed: 0_level_0':'起'}, inplace=True)\n",
    "df.rename(columns = {'Unnamed: 1_level_0':'迄'}, inplace=True)\n",
    "\n",
    "# 直接從第二層尋找欄位名稱為 1.8 的位置，在此之前才是調查表格\n",
    "drop_from = next(i for i, col in enumerate(df.columns) if col[1] == 1.8)\n",
    "df = df.iloc[:, :drop_from] # 使用 iloc 保留 drop_from 之前的所有欄位\n",
    "\n",
    "df_flat = flatten_directional_traffic_df(df)\n",
    "df_flat['調查計畫書點位編號'] = surveynumber\n",
    "df_flat['調查路段'] = surveyplace\n",
    "df_flat['快慢車道'] = df_flat['方向'].apply(lambda x: '快車道' if '快車道' in x else '慢車道')\n",
    "df_flat['方向'] = df_flat['方向'].str.split('-').str[0]\n",
    "df_flat['平假日'] = sheetname\n",
    "for column in ['平假日', '方向', '快慢車道', '調查路段', '調查計畫書點位編號']:\n",
    "    df_flat = move_column(df = df_flat, column_name = column, insert_index=0)\n"
   ]
  },
  {
   "cell_type": "code",
   "execution_count": null,
   "id": "6d4a317c",
   "metadata": {},
   "outputs": [],
   "source": [
    "df"
   ]
  },
  {
   "cell_type": "code",
   "execution_count": null,
   "id": "4a20f938",
   "metadata": {},
   "outputs": [],
   "source": [
    "df_flat[df_flat['方向'] == '往西(南)']"
   ]
  },
  {
   "cell_type": "code",
   "execution_count": null,
   "id": "b0fb0d2b",
   "metadata": {},
   "outputs": [],
   "source": [
    "# Step2 彙整路段旅行速率資料"
   ]
  }
 ],
 "metadata": {
  "kernelspec": {
   "display_name": "Python 3",
   "language": "python",
   "name": "python3"
  },
  "language_info": {
   "codemirror_mode": {
    "name": "ipython",
    "version": 3
   },
   "file_extension": ".py",
   "mimetype": "text/x-python",
   "name": "python",
   "nbconvert_exporter": "python",
   "pygments_lexer": "ipython3",
   "version": "3.11.9"
  }
 },
 "nbformat": 4,
 "nbformat_minor": 5
}
